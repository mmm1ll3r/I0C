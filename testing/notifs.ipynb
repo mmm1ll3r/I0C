{
 "cells": [
  {
   "cell_type": "code",
   "execution_count": 14,
   "metadata": {},
   "outputs": [],
   "source": [
    "import os\n",
    "import json\n",
    "from datetime import datetime\n",
    "import matplotlib.pyplot as plt"
   ]
  },
  {
   "cell_type": "code",
   "execution_count": 15,
   "metadata": {},
   "outputs": [],
   "source": [
    "def convert_unix_to_datetime(timestamp):\n",
    "    return datetime.utcfromtimestamp(timestamp).strftime('%Y-%m-%d %H:%M:%S')"
   ]
  },
  {
   "cell_type": "code",
   "execution_count": 16,
   "metadata": {},
   "outputs": [],
   "source": [
    "def read_notification_files(directory):\n",
    "    notification_times = []\n",
    "    for filename in os.listdir(directory):\n",
    "        if filename.endswith(\".json\"):\n",
    "            with open(os.path.join(directory, filename), 'r') as f:\n",
    "                data = json.load(f)\n",
    "                notification_date = data.get(\"context_attributes\", {}).get(\"notification_date\", \"\")\n",
    "                if notification_date:\n",
    "                    notification_times.append(int(notification_date))\n",
    "    return notification_times"
   ]
  },
  {
   "cell_type": "code",
   "execution_count": 17,
   "metadata": {},
   "outputs": [],
   "source": [
    "notification_directory = 'notifications'\n",
    "notification_times = read_notification_files(notification_directory)\n",
    "notification_datetimes = [convert_unix_to_datetime(timestamp) for timestamp in notification_times]"
   ]
  },
  {
   "cell_type": "code",
   "execution_count": 18,
   "metadata": {},
   "outputs": [
    {
     "name": "stdout",
     "output_type": "stream",
     "text": [
      "Earliest timestamp: 2024-02-18 21:01:12\n",
      "Most recent timestamp: 2024-02-18 23:06:58\n",
      "Time difference: 7546 seconds\n"
     ]
    }
   ],
   "source": [
    "# Find the earliest and most recent timestamps\n",
    "earliest_timestamp = min(notification_times)\n",
    "most_recent_timestamp = max(notification_times)\n",
    "\n",
    "# Convert timestamps to datetime objects\n",
    "earliest_datetime = convert_unix_to_datetime(earliest_timestamp)\n",
    "most_recent_datetime = convert_unix_to_datetime(most_recent_timestamp)\n",
    "\n",
    "# Calculate the time difference between the two\n",
    "time_difference = most_recent_timestamp - earliest_timestamp\n",
    "\n",
    "# Print the results\n",
    "print(f\"Earliest timestamp: {earliest_datetime}\")\n",
    "print(f\"Most recent timestamp: {most_recent_datetime}\")\n",
    "print(f\"Time difference: {time_difference} seconds\")"
   ]
  },
  {
   "cell_type": "markdown",
   "metadata": {},
   "source": [
    "#### This is ~40 notifications in a little over 2h. \n",
    "#### Or, an average of 1 notification every 188.65s, or 3.14m"
   ]
  }
 ],
 "metadata": {
  "kernelspec": {
   "display_name": "Python 3",
   "language": "python",
   "name": "python3"
  },
  "language_info": {
   "codemirror_mode": {
    "name": "ipython",
    "version": 3
   },
   "file_extension": ".py",
   "mimetype": "text/x-python",
   "name": "python",
   "nbconvert_exporter": "python",
   "pygments_lexer": "ipython3",
   "version": "3.11.7"
  }
 },
 "nbformat": 4,
 "nbformat_minor": 2
}
